version https://git-lfs.github.com/spec/v1
oid sha256:febd197884661148bb2ff4146737b1aacf689e1a0efa8a854b514723d6dc98e2
size 246501
