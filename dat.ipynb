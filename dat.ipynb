version https://git-lfs.github.com/spec/v1
oid sha256:09b8f6601a214e8d4883438fdf4724bfdf7a25e7479b675f8a6dacb9bc77f5e2
size 17512
