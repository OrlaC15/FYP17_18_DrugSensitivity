version https://git-lfs.github.com/spec/v1
oid sha256:fb8aa97486a23d02cba9e5a4b92ccd7288fe832e62c33e49b1e88423ec9da6ca
size 10152613
