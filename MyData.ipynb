version https://git-lfs.github.com/spec/v1
oid sha256:e7b4a44b2011863b38629acdddad1a635d1cbebab87e317d4ebd966e08f1d1b7
size 114767884
