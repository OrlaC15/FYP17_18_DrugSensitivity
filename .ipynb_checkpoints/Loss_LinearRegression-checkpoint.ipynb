version https://git-lfs.github.com/spec/v1
oid sha256:18a61d22f55dac3d59365e4fcbc5ce79d85bf0d889ea1ccd63f0d7947f6d1d19
size 10173082
